{
  "cells": [
    {
      "cell_type": "markdown",
      "metadata": {
        "id": "view-in-github",
        "colab_type": "text"
      },
      "source": [
        "<a href=\"https://colab.research.google.com/github/sdgroeve/D012513A-Specialised-Bio-informatics-Machine-Learning/blob/main/practicum_I/Splice_Site_Prediction%2Bsolutions.ipynb\" target=\"_parent\"><img src=\"https://colab.research.google.com/assets/colab-badge.svg\" alt=\"Open In Colab\"/></a>"
      ]
    },
    {
      "cell_type": "code",
      "execution_count": null,
      "metadata": {
        "id": "GoI_kEFWcg9e"
      },
      "outputs": [],
      "source": [
        "import warnings;\n",
        "warnings.filterwarnings('ignore');\n",
        "import pandas as pd"
      ]
    },
    {
      "cell_type": "markdown",
      "metadata": {
        "id": "VO24y4Jju21u"
      },
      "source": [
        "# Splice site prediction"
      ]
    },
    {
      "cell_type": "markdown",
      "metadata": {
        "id": "ZhcU9Uucu21v"
      },
      "source": [
        "Gene splicing is a post-transcriptional modification in which a single gene can code for multiple proteins. Gene Splicing is done in eukaryotes, prior to mRNA translation, by the differential inclusion or exclusion of regions of pre-mRNA. Gene splicing is an important source of protein diversity.\n",
        "\n",
        "The vast majority of splice sites are characterized by the presence of specific dimers on the intronic side of the splice site: \"GT\" for donor and \"AG\" for acceptor sites. In this project you will fit a classification model for acceptor splice site prediction in DNA sequences.\n",
        "\n",
        "This model will consider each AG in the DNA as a candidate acceptor site, extract a local context surrounding the candidate acceptor site, represent the candidate site as a feature vector and the predict the class ('acceptor site' or 'not acceptor site') by applying the model in the constructed feature vector.\n",
        "\n",
        "The folder that contains the annotated acceptor site data is on GitHub at the following location:"
      ]
    },
    {
      "cell_type": "code",
      "execution_count": null,
      "metadata": {
        "id": "xrdBiQtAu21v"
      },
      "outputs": [],
      "source": [
        "data_location = \"https://raw.githubusercontent.com/sdgroeve/D012513A-Specialised-Bio-informatics-Machine-Learning/main/practicum_I/\""
      ]
    },
    {
      "cell_type": "markdown",
      "metadata": {
        "id": "bpPpDABPcg9v"
      },
      "source": [
        "The dataset we will use for fitting (training) our predictive model can be found in this comma-separated `.csv` file:"
      ]
    },
    {
      "cell_type": "code",
      "execution_count": null,
      "metadata": {
        "id": "bgFwI0Macg9z"
      },
      "outputs": [],
      "source": [
        "data_name = \"acceptor_site_dataset.csv\""
      ]
    },
    {
      "cell_type": "markdown",
      "metadata": {
        "id": "M8m2CZE6cg91"
      },
      "source": [
        "Read this `.csv` file from the `data_location` folder into a Pandas DataFrame called `data`: "
      ]
    },
    {
      "cell_type": "code",
      "execution_count": null,
      "metadata": {
        "id": "3nTxILBjcg93"
      },
      "outputs": [],
      "source": [
        "###Start code here\n",
        "\n",
        "data = pd.read_csv(data_location + data_name)\n",
        "\n",
        "###End code here"
      ]
    },
    {
      "cell_type": "markdown",
      "metadata": {
        "id": "8lMvYomQcg97"
      },
      "source": [
        "Print the first 5 rows in `data`:"
      ]
    },
    {
      "cell_type": "code",
      "execution_count": null,
      "metadata": {
        "colab": {
          "base_uri": "https://localhost:8080/",
          "height": 206
        },
        "id": "_lJt4Vopu212",
        "outputId": "5be0c1b0-96cc-485c-b776-f05b91617bfb"
      },
      "outputs": [
        {
          "name": "stdout",
          "output_type": "stream",
          "text": [
            "                 sequence  label subset\n",
            "0  TTTGAATTGTAGGTGTCCTGCT      1  train\n",
            "1  TATTTTTTAAAGAACTGGAAGA      1  train\n",
            "2  TTTCTTTTTCAGATGAAGAATG      1  train\n",
            "3  TATTAATTTCAGTTTGGTTGTT      1  train\n",
            "4  TAAAAATTTAAGTTCGTCCCGA      1  train\n"
          ]
        }
      ],
      "source": [
        "###Start code here\n",
        "\n",
        "print(data.head(5))\n",
        "\n",
        "###End code here"
      ]
    },
    {
      "cell_type": "markdown",
      "metadata": {
        "id": "rXgIExxtu216"
      },
      "source": [
        "We can see that there are three columns in the dataset. \n",
        "\n",
        "The column `sequence` contains the local context DNA sequence. The nucleotide positions 11 and 12 in the sequence are the candidate acceptor site and have value \"A\" and \"G\" for all rows in the dataset. The local context consists of 10 nucleotides upstream en 10 nucleotides downstream the candidate acceptor site. \n",
        "\n",
        "The column `label` contains the class of the candidate acceptor site: 1 for \"is acceptor site\" and 0 for \"is not acceptor site\". \n",
        "\n",
        "The column `subset` indicates if the row (instance) is part of the trainset or the testset.\n",
        "\n",
        "Use the Pandas DataFrame `value_counts()` summary function to print the number of instances in the trainset and the testset:\n"
      ]
    },
    {
      "cell_type": "code",
      "execution_count": null,
      "metadata": {
        "colab": {
          "base_uri": "https://localhost:8080/",
          "height": 73
        },
        "id": "PYhNkKz3u217",
        "outputId": "22209f38-cbcb-47f7-df40-7b83cffc09c5"
      },
      "outputs": [
        {
          "name": "stdout",
          "output_type": "stream",
          "text": [
            "train    2752\n",
            "test      552\n",
            "Name: subset, dtype: int64\n"
          ]
        }
      ],
      "source": [
        "###Start code here\n",
        "\n",
        "print(data.subset.value_counts())\n",
        "\n",
        "###End code here"
      ]
    },
    {
      "cell_type": "markdown",
      "metadata": {
        "id": "teweqTUhu21_"
      },
      "source": [
        "To fit a logistic regression model on the trainset we need to represent the local context DNA sequence as a numerical feature vector suitable for model fitting. This process is known as **feature engineering**. \n",
        "\n",
        "The \"AG\" dinucleotide in the middle of each local context sequence is the same for both classes, i.e. it does not provide any discriminative information. So, there is no rational behind computing features from this part of the local context sequence.\n",
        "\n",
        "Use the Pandas DataFrame `map()` method to remove the middle \"AG\" dinucleotides in the DNA sequences (don't create a new column):"
      ]
    },
    {
      "cell_type": "code",
      "execution_count": null,
      "metadata": {
        "id": "02U3a4b6cg-J",
        "outputId": "0a0f63a7-47f4-4ae4-c6fb-1f24f748bb61"
      },
      "outputs": [
        {
          "name": "stdout",
          "output_type": "stream",
          "text": [
            "                 sequence  label subset\n",
            "0  TTTGAATTGTAGGTGTCCTGCT      1  train\n",
            "1  TATTTTTTAAAGAACTGGAAGA      1  train\n",
            "2  TTTCTTTTTCAGATGAAGAATG      1  train\n",
            "3  TATTAATTTCAGTTTGGTTGTT      1  train\n",
            "4  TAAAAATTTAAGTTCGTCCCGA      1  train\n",
            "               sequence  label subset\n",
            "0  TTTGAATTGTGTGTCCTGCT      1  train\n",
            "1  TATTTTTTAAAACTGGAAGA      1  train\n",
            "2  TTTCTTTTTCATGAAGAATG      1  train\n",
            "3  TATTAATTTCTTTGGTTGTT      1  train\n",
            "4  TAAAAATTTATTCGTCCCGA      1  train\n"
          ]
        }
      ],
      "source": [
        "print(data.head())\n",
        "\n",
        "###Start code here\n",
        "\n",
        "data[\"sequence\"] = data[\"sequence\"].map(lambda x: x[0:10]+x[12:22])\n",
        "\n",
        "###End code here\n",
        "\n",
        "print(data.head())"
      ]
    },
    {
      "cell_type": "markdown",
      "metadata": {
        "id": "SZkQumNiu22E"
      },
      "source": [
        "Next, we create a feature for each of the nucleotide positions in the local context DNA sequence.\n",
        "\n",
        "The [pandas.Series.str.split](https://pandas.pydata.org/docs/reference/api/pandas.Series.str.split.html) function splits a string in a column (pandas.Series) from the beginning, at the specified delimiter string.\n",
        "\n",
        "I use this function to split the `sequence` column into one column for each nucleotide position. I also rename the resulting columns to better relfect their meaning: "
      ]
    },
    {
      "cell_type": "code",
      "execution_count": null,
      "metadata": {
        "id": "pcB5Nim4cg-M",
        "outputId": "66ac7954-2615-4e66-9495-b61e9a534e29"
      },
      "outputs": [
        {
          "name": "stdout",
          "output_type": "stream",
          "text": [
            "     -10 -9 -8 -7 -6 -5 -4 -3 -2 -1  1  2  3  4  5  6  7  8  9 10\n",
            "0      T  T  T  G  A  A  T  T  G  T  G  T  G  T  C  C  T  G  C  T\n",
            "1      T  A  T  T  T  T  T  T  A  A  A  A  C  T  G  G  A  A  G  A\n",
            "2      T  T  T  C  T  T  T  T  T  C  A  T  G  A  A  G  A  A  T  G\n",
            "3      T  A  T  T  A  A  T  T  T  C  T  T  T  G  G  T  T  G  T  T\n",
            "4      T  A  A  A  A  A  T  T  T  A  T  T  C  G  T  C  C  C  G  A\n",
            "...   .. .. .. .. .. .. .. .. .. .. .. .. .. .. .. .. .. .. .. ..\n",
            "3299   T  T  T  G  A  A  G  T  T  T  C  T  T  C  C  T  T  C  T  C\n",
            "3300   C  T  G  C  T  A  A  T  A  T  T  G  A  C  A  G  C  A  A  T\n",
            "3301   T  T  C  C  A  A  A  T  A  T  G  A  A  A  A  T  C  G  A  A\n",
            "3302   A  A  A  A  T  G  T  C  G  C  A  A  C  A  A  C  A  A  G  A\n",
            "3303   A  G  A  A  G  T  A  T  G  G  G  T  G  G  A  A  T  G  T  T\n",
            "\n",
            "[3304 rows x 20 columns]\n"
          ]
        }
      ],
      "source": [
        "data_features = data['sequence'].str.split('', expand=True).iloc[:,1:21]\n",
        "data_features.columns = [\"%i\"%i for i in range(-10,0,1)] + [\"%i\"%i for i in range(1,11,1)]\n",
        "\n",
        "print(data_features)"
      ]
    },
    {
      "cell_type": "markdown",
      "metadata": {
        "id": "L38-CN3ucg-P"
      },
      "source": [
        "Next you will map each of the nucleotides to a numerical value. Create a Python function `map_nucleotide_to_number()` that maps nucleotides A, C, G and T to 0, 1, 2 and 3 respectively:"
      ]
    },
    {
      "cell_type": "code",
      "execution_count": null,
      "metadata": {
        "id": "qD0nV2Qdcg-S",
        "outputId": "c8510284-c9f0-49fb-d411-dcfef8758846"
      },
      "outputs": [
        {
          "name": "stdout",
          "output_type": "stream",
          "text": [
            "Function works for nucleotide A\n",
            "Function works for nucleotide C\n",
            "Function works for nucleotide G\n",
            "Function works for nucleotide T\n"
          ]
        }
      ],
      "source": [
        "###Start code here\n",
        "\n",
        "def map_nucleotide_to_number(x):\n",
        "    if x == 'A':\n",
        "        return 0\n",
        "    if x == 'C':\n",
        "        return 1\n",
        "    if x == 'G':\n",
        "        return 2\n",
        "    if x == 'T':\n",
        "        return 3\n",
        "\n",
        "###End code here\n",
        "\n",
        "for nucleotide, mapped_number in zip(['A','C','G','T'],range(4)):\n",
        "    if map_nucleotide_to_number(nucleotide) != mapped_number:\n",
        "        print(\"Function is not working for nucleotide %s\"%nucleotide)\n",
        "    else:\n",
        "        print(\"Function works for nucleotide %s\"%nucleotide)"
      ]
    },
    {
      "cell_type": "markdown",
      "metadata": {
        "id": "NaTvRTgscg-W"
      },
      "source": [
        "You have seen the Pandas DataFrame functions `map()` and `apply()`. Similar to these functions, there is also the function `applymap()` that applies a function to every element of a DataFrame.\n",
        "\n",
        "Apply the `map_nucleotide_to_number()` you created to every element in the `data_features` DataFrame (write the resulting DataFrame to `data_features_numerical`):"
      ]
    },
    {
      "cell_type": "code",
      "execution_count": null,
      "metadata": {
        "id": "ZSo6xP5hcg-X",
        "outputId": "74c6b822-6d20-4ddd-fef7-baf8c13e465a"
      },
      "outputs": [
        {
          "name": "stdout",
          "output_type": "stream",
          "text": [
            "      -10  -9  -8  -7  -6  -5  -4  -3  -2  -1  1  2  3  4  5  6  7  8  9  10\n",
            "0       3   3   3   2   0   0   3   3   2   3  2  3  2  3  1  1  3  2  1   3\n",
            "1       3   0   3   3   3   3   3   3   0   0  0  0  1  3  2  2  0  0  2   0\n",
            "2       3   3   3   1   3   3   3   3   3   1  0  3  2  0  0  2  0  0  3   2\n",
            "3       3   0   3   3   0   0   3   3   3   1  3  3  3  2  2  3  3  2  3   3\n",
            "4       3   0   0   0   0   0   3   3   3   0  3  3  1  2  3  1  1  1  2   0\n",
            "...   ...  ..  ..  ..  ..  ..  ..  ..  ..  .. .. .. .. .. .. .. .. .. ..  ..\n",
            "3299    3   3   3   2   0   0   2   3   3   3  1  3  3  1  1  3  3  1  3   1\n",
            "3300    1   3   2   1   3   0   0   3   0   3  3  2  0  1  0  2  1  0  0   3\n",
            "3301    3   3   1   1   0   0   0   3   0   3  2  0  0  0  0  3  1  2  0   0\n",
            "3302    0   0   0   0   3   2   3   1   2   1  0  0  1  0  0  1  0  0  2   0\n",
            "3303    0   2   0   0   2   3   0   3   2   2  2  3  2  2  0  0  3  2  3   3\n",
            "\n",
            "[3304 rows x 20 columns]\n"
          ]
        }
      ],
      "source": [
        "###Start code here\n",
        "\n",
        "data_features_numerical = data_features.applymap(map_nucleotide_to_number)\n",
        "\n",
        "###End code here\n",
        "\n",
        "print(data_features_numerical)"
      ]
    },
    {
      "cell_type": "markdown",
      "metadata": {
        "id": "-yyUV2FRcg-Z"
      },
      "source": [
        "Finally, I contruct the trainset and testset feature vectors based on the `subset` column in `data`:"
      ]
    },
    {
      "cell_type": "code",
      "execution_count": null,
      "metadata": {
        "id": "weoYGj7jcg-b"
      },
      "outputs": [],
      "source": [
        "X_train = data_features_numerical.loc[data.subset == \"train\"]\n",
        "X_test = data_features_numerical.loc[data.subset == \"test\"]"
      ]
    },
    {
      "cell_type": "markdown",
      "metadata": {
        "id": "o6dwnM5gcg-d"
      },
      "source": [
        "Create Pandas Series `y_train` and `y_test` that contain the classes for the DataFrames `X_train` and `X_test` respectively:"
      ]
    },
    {
      "cell_type": "code",
      "execution_count": null,
      "metadata": {
        "id": "RICtlau3cg-f"
      },
      "outputs": [],
      "source": [
        "###Start code here\n",
        "\n",
        "y_train = data.loc[data.subset == \"train\"][\"label\"]\n",
        "y_test = data.loc[data.subset == \"test\"][\"label\"]\n",
        "\n",
        "###End code here"
      ]
    },
    {
      "cell_type": "markdown",
      "metadata": {
        "id": "odc-eEbScg-g"
      },
      "source": [
        "How many instances of class '0' are there in the trainset? How many of class '1'?"
      ]
    },
    {
      "cell_type": "code",
      "execution_count": null,
      "metadata": {
        "id": "2jmcEtWwcg-i",
        "outputId": "1f63aecc-5dbb-4bf7-8b8d-1081195a9396"
      },
      "outputs": [
        {
          "name": "stdout",
          "output_type": "stream",
          "text": [
            "0    2497\n",
            "1     255\n",
            "Name: label, dtype: int64\n"
          ]
        }
      ],
      "source": [
        "###Start code here\n",
        "\n",
        "print(y_train.value_counts())\n",
        "\n",
        "###End code here"
      ]
    },
    {
      "cell_type": "markdown",
      "metadata": {
        "id": "aY19WYK9cg-j"
      },
      "source": [
        "How many instances of class '0' are there in the testset? How many of class '1'?"
      ]
    },
    {
      "cell_type": "code",
      "execution_count": null,
      "metadata": {
        "id": "mXmTOZu4cg-k",
        "outputId": "8e45d56d-a648-499f-d1ec-643eaf609a0e"
      },
      "outputs": [
        {
          "name": "stdout",
          "output_type": "stream",
          "text": [
            "0    497\n",
            "1     55\n",
            "Name: label, dtype: int64\n"
          ]
        }
      ],
      "source": [
        "###Start code here\n",
        "\n",
        "print(y_test.value_counts())\n",
        "\n",
        "###End code here"
      ]
    },
    {
      "cell_type": "markdown",
      "metadata": {
        "id": "0573K2rRu22W"
      },
      "source": [
        "Initialize the `LogisticRegression` model from `sklearn.linear_model`: "
      ]
    },
    {
      "cell_type": "code",
      "execution_count": null,
      "metadata": {
        "id": "y4doEzKocg-n",
        "outputId": "d404c430-274c-4250-a2fc-2c4766badc67"
      },
      "outputs": [
        {
          "name": "stdout",
          "output_type": "stream",
          "text": [
            "LogisticRegression()\n"
          ]
        }
      ],
      "source": [
        "from sklearn.linear_model import LogisticRegression\n",
        "\n",
        "###Start code here\n",
        "\n",
        "lr_model = LogisticRegression()\n",
        "\n",
        "###End code here\n",
        "\n",
        "print(lr_model)"
      ]
    },
    {
      "cell_type": "markdown",
      "metadata": {
        "id": "vIYYrT_Hcg-o"
      },
      "source": [
        "Fit the logistic regression model `lr_ model` on the trainset `X_train`:"
      ]
    },
    {
      "cell_type": "code",
      "execution_count": null,
      "metadata": {
        "id": "Ot0cff60cg-p",
        "outputId": "9d0a7913-5c6a-4b57-c428-2eaad2ee7cc9"
      },
      "outputs": [
        {
          "data": {
            "text/html": [
              "<style>#sk-container-id-1 {color: black;background-color: white;}#sk-container-id-1 pre{padding: 0;}#sk-container-id-1 div.sk-toggleable {background-color: white;}#sk-container-id-1 label.sk-toggleable__label {cursor: pointer;display: block;width: 100%;margin-bottom: 0;padding: 0.3em;box-sizing: border-box;text-align: center;}#sk-container-id-1 label.sk-toggleable__label-arrow:before {content: \"▸\";float: left;margin-right: 0.25em;color: #696969;}#sk-container-id-1 label.sk-toggleable__label-arrow:hover:before {color: black;}#sk-container-id-1 div.sk-estimator:hover label.sk-toggleable__label-arrow:before {color: black;}#sk-container-id-1 div.sk-toggleable__content {max-height: 0;max-width: 0;overflow: hidden;text-align: left;background-color: #f0f8ff;}#sk-container-id-1 div.sk-toggleable__content pre {margin: 0.2em;color: black;border-radius: 0.25em;background-color: #f0f8ff;}#sk-container-id-1 input.sk-toggleable__control:checked~div.sk-toggleable__content {max-height: 200px;max-width: 100%;overflow: auto;}#sk-container-id-1 input.sk-toggleable__control:checked~label.sk-toggleable__label-arrow:before {content: \"▾\";}#sk-container-id-1 div.sk-estimator input.sk-toggleable__control:checked~label.sk-toggleable__label {background-color: #d4ebff;}#sk-container-id-1 div.sk-label input.sk-toggleable__control:checked~label.sk-toggleable__label {background-color: #d4ebff;}#sk-container-id-1 input.sk-hidden--visually {border: 0;clip: rect(1px 1px 1px 1px);clip: rect(1px, 1px, 1px, 1px);height: 1px;margin: -1px;overflow: hidden;padding: 0;position: absolute;width: 1px;}#sk-container-id-1 div.sk-estimator {font-family: monospace;background-color: #f0f8ff;border: 1px dotted black;border-radius: 0.25em;box-sizing: border-box;margin-bottom: 0.5em;}#sk-container-id-1 div.sk-estimator:hover {background-color: #d4ebff;}#sk-container-id-1 div.sk-parallel-item::after {content: \"\";width: 100%;border-bottom: 1px solid gray;flex-grow: 1;}#sk-container-id-1 div.sk-label:hover label.sk-toggleable__label {background-color: #d4ebff;}#sk-container-id-1 div.sk-serial::before {content: \"\";position: absolute;border-left: 1px solid gray;box-sizing: border-box;top: 0;bottom: 0;left: 50%;z-index: 0;}#sk-container-id-1 div.sk-serial {display: flex;flex-direction: column;align-items: center;background-color: white;padding-right: 0.2em;padding-left: 0.2em;position: relative;}#sk-container-id-1 div.sk-item {position: relative;z-index: 1;}#sk-container-id-1 div.sk-parallel {display: flex;align-items: stretch;justify-content: center;background-color: white;position: relative;}#sk-container-id-1 div.sk-item::before, #sk-container-id-1 div.sk-parallel-item::before {content: \"\";position: absolute;border-left: 1px solid gray;box-sizing: border-box;top: 0;bottom: 0;left: 50%;z-index: -1;}#sk-container-id-1 div.sk-parallel-item {display: flex;flex-direction: column;z-index: 1;position: relative;background-color: white;}#sk-container-id-1 div.sk-parallel-item:first-child::after {align-self: flex-end;width: 50%;}#sk-container-id-1 div.sk-parallel-item:last-child::after {align-self: flex-start;width: 50%;}#sk-container-id-1 div.sk-parallel-item:only-child::after {width: 0;}#sk-container-id-1 div.sk-dashed-wrapped {border: 1px dashed gray;margin: 0 0.4em 0.5em 0.4em;box-sizing: border-box;padding-bottom: 0.4em;background-color: white;}#sk-container-id-1 div.sk-label label {font-family: monospace;font-weight: bold;display: inline-block;line-height: 1.2em;}#sk-container-id-1 div.sk-label-container {text-align: center;}#sk-container-id-1 div.sk-container {/* jupyter's `normalize.less` sets `[hidden] { display: none; }` but bootstrap.min.css set `[hidden] { display: none !important; }` so we also need the `!important` here to be able to override the default hidden behavior on the sphinx rendered scikit-learn.org. See: https://github.com/scikit-learn/scikit-learn/issues/21755 */display: inline-block !important;position: relative;}#sk-container-id-1 div.sk-text-repr-fallback {display: none;}</style><div id=\"sk-container-id-1\" class=\"sk-top-container\"><div class=\"sk-text-repr-fallback\"><pre>LogisticRegression()</pre><b>In a Jupyter environment, please rerun this cell to show the HTML representation or trust the notebook. <br />On GitHub, the HTML representation is unable to render, please try loading this page with nbviewer.org.</b></div><div class=\"sk-container\" hidden><div class=\"sk-item\"><div class=\"sk-estimator sk-toggleable\"><input class=\"sk-toggleable__control sk-hidden--visually\" id=\"sk-estimator-id-1\" type=\"checkbox\" checked><label for=\"sk-estimator-id-1\" class=\"sk-toggleable__label sk-toggleable__label-arrow\">LogisticRegression</label><div class=\"sk-toggleable__content\"><pre>LogisticRegression()</pre></div></div></div></div></div>"
            ],
            "text/plain": [
              "LogisticRegression()"
            ]
          },
          "execution_count": 22,
          "metadata": {},
          "output_type": "execute_result"
        }
      ],
      "source": [
        "###Start code here\n",
        "\n",
        "lr_model.fit(X_train,y_train)\n",
        "\n",
        "###End code here"
      ]
    },
    {
      "cell_type": "markdown",
      "metadata": {
        "id": "u66cBH8fcg-q"
      },
      "source": [
        "Compute class predictions for the testset `X_test`:"
      ]
    },
    {
      "cell_type": "code",
      "execution_count": null,
      "metadata": {
        "id": "4JgLs-6ecg-r",
        "outputId": "b5e7a570-552b-40d2-f528-e709cca7f0ac"
      },
      "outputs": [
        {
          "name": "stdout",
          "output_type": "stream",
          "text": [
            "[1 1 1 0 0 0 0 1 0 0 0 0 0 0 0 0 0 1 1 0 0 1 0 1 0 1 0 0 1 1 0 1 0 0 0 1 1\n",
            " 0 1 0 0 1 1 1 1 0 0 0 1 0 1 1 0 0 1 0 0 0 0 0 0 0 0 0 0 0 0 0 0 0 0 0 0 0\n",
            " 0 0 0 0 0 0 0 0 0 0 0 0 0 0 0 0 0 0 0 0 0 0 0 0 0 0 0 0 0 0 0 0 0 0 0 0 0\n",
            " 0 0 0 0 0 0 0 0 0 0 0 0 0 0 0 0 0 0 0 0 0 0 0 0 0 0 0 0 0 0 0 0 0 0 0 0 0\n",
            " 0 0 0 0 0 0 0 0 0 0 0 0 0 0 0 0 0 0 0 0 0 0 0 0 0 0 0 0 0 0 0 0 0 0 0 0 0\n",
            " 0 0 0 0 0 0 0 0 0 0 0 0 0 0 0 0 0 1 0 0 0 0 0 0 0 0 0 0 0 0 0 0 0 0 0 0 0\n",
            " 0 0 0 0 0 0 0 0 0 0 0 0 0 0 0 0 0 1 0 0 0 0 0 0 0 0 0 0 0 0 0 0 0 0 0 0 0\n",
            " 0 0 0 0 0 0 0 0 0 0 0 0 0 0 0 1 0 0 0 0 0 0 0 0 0 0 0 0 0 0 1 0 0 0 0 0 0\n",
            " 0 0 0 0 0 0 0 0 0 0 0 0 0 0 0 0 0 0 0 0 0 0 0 0 0 0 0 0 0 0 0 0 0 0 0 0 1\n",
            " 0 0 0 0 0 0 0 0 0 0 0 1 0 0 0 0 0 0 0 0 0 0 0 0 0 0 0 0 0 0 0 0 0 0 0 0 0\n",
            " 0 0 0 0 0 0 0 0 0 0 0 0 0 0 0 0 0 0 0 0 0 0 0 0 0 0 0 0 0 0 0 0 0 0 0 0 0\n",
            " 0 0 0 1 0 0 0 0 0 0 0 0 0 0 0 0 0 0 0 0 1 0 0 0 0 0 0 0 0 0 0 0 0 0 0 0 0\n",
            " 0 0 0 0 0 0 0 0 0 0 0 0 0 0 0 0 0 0 0 0 0 0 0 0 0 0 0 0 0 0 1 0 0 0 0 0 0\n",
            " 0 0 0 0 1 0 0 0 0 0 0 0 0 1 0 0 0 0 0 0 0 0 0 0 0 0 0 0 0 0 0 0 0 0 0 0 0\n",
            " 0 0 0 0 0 0 0 0 0 1 0 0 0 0 0 0 0 0 0 0 0 0 0 0 0 0 0 0 0 0 0 0 0 0]\n"
          ]
        }
      ],
      "source": [
        "###Start code here\n",
        "\n",
        "predictions = lr_model.predict(X_test)\n",
        "\n",
        "###End code here\n",
        "\n",
        "print(predictions)"
      ]
    },
    {
      "cell_type": "markdown",
      "metadata": {
        "id": "oTkFeiuucg-s"
      },
      "source": [
        "Use the `accuracy_score()` function in `sklearn.metrics` to compute the accuracy of the predictions on the testset:"
      ]
    },
    {
      "cell_type": "code",
      "execution_count": null,
      "metadata": {
        "colab": {
          "base_uri": "https://localhost:8080/",
          "height": 36
        },
        "id": "jc7J8SrIu22X",
        "outputId": "5d9ba961-b669-4a94-a9d7-5243d57cab27"
      },
      "outputs": [
        {
          "name": "stdout",
          "output_type": "stream",
          "text": [
            "0.9202898550724637\n"
          ]
        }
      ],
      "source": [
        "from sklearn import metrics\n",
        "\n",
        "###Start code here\n",
        "\n",
        "score_acc = metrics.accuracy_score(y_test,predictions)\n",
        "\n",
        "###Start code here\n",
        "\n",
        "print(score_acc)\n"
      ]
    },
    {
      "cell_type": "markdown",
      "metadata": {
        "id": "BPu8YDA2u23D"
      },
      "source": [
        "An accuracy above 90% seems like a good score. But is it? Let's consider a model that predicts class '0' for all test points:"
      ]
    },
    {
      "cell_type": "code",
      "execution_count": null,
      "metadata": {
        "id": "5kV1yMLOu23E",
        "outputId": "1e89e078-fb21-4491-86ec-db96485d42d2"
      },
      "outputs": [
        {
          "name": "stdout",
          "output_type": "stream",
          "text": [
            "[0, 0, 0, 0, 0, 0, 0, 0, 0, 0, 0, 0, 0, 0, 0, 0, 0, 0, 0, 0, 0, 0, 0, 0, 0, 0, 0, 0, 0, 0, 0, 0, 0, 0, 0, 0, 0, 0, 0, 0, 0, 0, 0, 0, 0, 0, 0, 0, 0, 0, 0, 0, 0, 0, 0, 0, 0, 0, 0, 0, 0, 0, 0, 0, 0, 0, 0, 0, 0, 0, 0, 0, 0, 0, 0, 0, 0, 0, 0, 0, 0, 0, 0, 0, 0, 0, 0, 0, 0, 0, 0, 0, 0, 0, 0, 0, 0, 0, 0, 0, 0, 0, 0, 0, 0, 0, 0, 0, 0, 0, 0, 0, 0, 0, 0, 0, 0, 0, 0, 0, 0, 0, 0, 0, 0, 0, 0, 0, 0, 0, 0, 0, 0, 0, 0, 0, 0, 0, 0, 0, 0, 0, 0, 0, 0, 0, 0, 0, 0, 0, 0, 0, 0, 0, 0, 0, 0, 0, 0, 0, 0, 0, 0, 0, 0, 0, 0, 0, 0, 0, 0, 0, 0, 0, 0, 0, 0, 0, 0, 0, 0, 0, 0, 0, 0, 0, 0, 0, 0, 0, 0, 0, 0, 0, 0, 0, 0, 0, 0, 0, 0, 0, 0, 0, 0, 0, 0, 0, 0, 0, 0, 0, 0, 0, 0, 0, 0, 0, 0, 0, 0, 0, 0, 0, 0, 0, 0, 0, 0, 0, 0, 0, 0, 0, 0, 0, 0, 0, 0, 0, 0, 0, 0, 0, 0, 0, 0, 0, 0, 0, 0, 0, 0, 0, 0, 0, 0, 0, 0, 0, 0, 0, 0, 0, 0, 0, 0, 0, 0, 0, 0, 0, 0, 0, 0, 0, 0, 0, 0, 0, 0, 0, 0, 0, 0, 0, 0, 0, 0, 0, 0, 0, 0, 0, 0, 0, 0, 0, 0, 0, 0, 0, 0, 0, 0, 0, 0, 0, 0, 0, 0, 0, 0, 0, 0, 0, 0, 0, 0, 0, 0, 0, 0, 0, 0, 0, 0, 0, 0, 0, 0, 0, 0, 0, 0, 0, 0, 0, 0, 0, 0, 0, 0, 0, 0, 0, 0, 0, 0, 0, 0, 0, 0, 0, 0, 0, 0, 0, 0, 0, 0, 0, 0, 0, 0, 0, 0, 0, 0, 0, 0, 0, 0, 0, 0, 0, 0, 0, 0, 0, 0, 0, 0, 0, 0, 0, 0, 0, 0, 0, 0, 0, 0, 0, 0, 0, 0, 0, 0, 0, 0, 0, 0, 0, 0, 0, 0, 0, 0, 0, 0, 0, 0, 0, 0, 0, 0, 0, 0, 0, 0, 0, 0, 0, 0, 0, 0, 0, 0, 0, 0, 0, 0, 0, 0, 0, 0, 0, 0, 0, 0, 0, 0, 0, 0, 0, 0, 0, 0, 0, 0, 0, 0, 0, 0, 0, 0, 0, 0, 0, 0, 0, 0, 0, 0, 0, 0, 0, 0, 0, 0, 0, 0, 0, 0, 0, 0, 0, 0, 0, 0, 0, 0, 0, 0, 0, 0, 0, 0, 0, 0, 0, 0, 0, 0, 0, 0, 0, 0, 0, 0, 0, 0, 0, 0, 0, 0, 0, 0, 0, 0, 0, 0, 0, 0, 0, 0, 0, 0, 0, 0, 0, 0, 0, 0, 0, 0, 0, 0, 0, 0, 0, 0, 0, 0, 0, 0, 0, 0, 0, 0, 0, 0, 0, 0, 0, 0, 0, 0, 0, 0, 0]\n"
          ]
        }
      ],
      "source": [
        "predictions_zero = [0]*len(y_test)\n",
        "print(predictions_zero)"
      ]
    },
    {
      "cell_type": "markdown",
      "metadata": {
        "id": "efNP_I-Ju23I"
      },
      "source": [
        "What is the accuracy of these predictions?"
      ]
    },
    {
      "cell_type": "code",
      "execution_count": null,
      "metadata": {
        "colab": {
          "base_uri": "https://localhost:8080/",
          "height": 36
        },
        "id": "fmdBsSaou23K",
        "outputId": "a4efb18f-1f8a-4cb3-e49b-16ae5938a95a"
      },
      "outputs": [
        {
          "name": "stdout",
          "output_type": "stream",
          "text": [
            "0.9003623188405797\n"
          ]
        }
      ],
      "source": [
        "###Start code here\n",
        "\n",
        "score_acc = metrics.accuracy_score(y_test,predictions_zero)\n",
        "\n",
        "###End code here\n",
        "\n",
        "print(score_acc)"
      ]
    },
    {
      "cell_type": "markdown",
      "metadata": {
        "id": "0lZ3nJUPu23P"
      },
      "source": [
        "So this should be a good score as well, even though the model did not learn anything.\n",
        "\n",
        "For classification tasks where the classes are highly imbalanced, accuracy is not a good metric to evaluate the generalization performance. In fact, if there are 0.1% \"AG\" dinucleotides in a genome that are true acceptor sites then a model that predicts class '0' for each \"AG\" would have an accuracy of 99.9%.\n",
        "\n",
        "You have seen how a ROC curve plots the true positive rate against the false positive rate. Both these metrics focus on the positive class, in our case the true acceptor sites. These metrics are much more suitable to evalute the performance of models on tasks with highly imbalanced classes. \n",
        "\n",
        "To transform a ROC curve into one metric we can use the area under the curve (AUC). This metric can be computed with the `roc_auc_score()` function in `sklearn.metrics`. \n",
        "\n",
        "What is the AUC score of the predictions computed on the testset?"
      ]
    },
    {
      "cell_type": "code",
      "execution_count": null,
      "metadata": {
        "colab": {
          "base_uri": "https://localhost:8080/",
          "height": 36
        },
        "id": "nTjM_o7Iu23Q",
        "outputId": "f9c9fda5-fa07-4452-cf35-8e36ad114b3e"
      },
      "outputs": [
        {
          "name": "stdout",
          "output_type": "stream",
          "text": [
            "0.6970184744832632\n"
          ]
        }
      ],
      "source": [
        "from sklearn.metrics import roc_auc_score\n",
        "\n",
        "###Start code here\n",
        "\n",
        "score_auc = roc_auc_score(y_test,predictions)\n",
        "\n",
        "###End code here\n",
        "\n",
        "print(score_auc)"
      ]
    },
    {
      "cell_type": "markdown",
      "metadata": {
        "id": "WaPodVtTcg-z"
      },
      "source": [
        "Now, let's print the predictions again:"
      ]
    },
    {
      "cell_type": "code",
      "execution_count": null,
      "metadata": {
        "id": "H4mwDBCscg-0",
        "outputId": "fce55819-ddbe-4deb-b13f-974e331680af"
      },
      "outputs": [
        {
          "name": "stdout",
          "output_type": "stream",
          "text": [
            "[1 1 1 0 0 0 0 1 0 0 0 0 0 0 0 0 0 1 1 0 0 1 0 1 0 1 0 0 1 1 0 1 0 0 0 1 1\n",
            " 0 1 0 0 1 1 1 1 0 0 0 1 0 1 1 0 0 1 0 0 0 0 0 0 0 0 0 0 0 0 0 0 0 0 0 0 0\n",
            " 0 0 0 0 0 0 0 0 0 0 0 0 0 0 0 0 0 0 0 0 0 0 0 0 0 0 0 0 0 0 0 0 0 0 0 0 0\n",
            " 0 0 0 0 0 0 0 0 0 0 0 0 0 0 0 0 0 0 0 0 0 0 0 0 0 0 0 0 0 0 0 0 0 0 0 0 0\n",
            " 0 0 0 0 0 0 0 0 0 0 0 0 0 0 0 0 0 0 0 0 0 0 0 0 0 0 0 0 0 0 0 0 0 0 0 0 0\n",
            " 0 0 0 0 0 0 0 0 0 0 0 0 0 0 0 0 0 1 0 0 0 0 0 0 0 0 0 0 0 0 0 0 0 0 0 0 0\n",
            " 0 0 0 0 0 0 0 0 0 0 0 0 0 0 0 0 0 1 0 0 0 0 0 0 0 0 0 0 0 0 0 0 0 0 0 0 0\n",
            " 0 0 0 0 0 0 0 0 0 0 0 0 0 0 0 1 0 0 0 0 0 0 0 0 0 0 0 0 0 0 1 0 0 0 0 0 0\n",
            " 0 0 0 0 0 0 0 0 0 0 0 0 0 0 0 0 0 0 0 0 0 0 0 0 0 0 0 0 0 0 0 0 0 0 0 0 1\n",
            " 0 0 0 0 0 0 0 0 0 0 0 1 0 0 0 0 0 0 0 0 0 0 0 0 0 0 0 0 0 0 0 0 0 0 0 0 0\n",
            " 0 0 0 0 0 0 0 0 0 0 0 0 0 0 0 0 0 0 0 0 0 0 0 0 0 0 0 0 0 0 0 0 0 0 0 0 0\n",
            " 0 0 0 1 0 0 0 0 0 0 0 0 0 0 0 0 0 0 0 0 1 0 0 0 0 0 0 0 0 0 0 0 0 0 0 0 0\n",
            " 0 0 0 0 0 0 0 0 0 0 0 0 0 0 0 0 0 0 0 0 0 0 0 0 0 0 0 0 0 0 1 0 0 0 0 0 0\n",
            " 0 0 0 0 1 0 0 0 0 0 0 0 0 1 0 0 0 0 0 0 0 0 0 0 0 0 0 0 0 0 0 0 0 0 0 0 0\n",
            " 0 0 0 0 0 0 0 0 0 1 0 0 0 0 0 0 0 0 0 0 0 0 0 0 0 0 0 0 0 0 0 0 0 0]\n"
          ]
        }
      ],
      "source": [
        "print(predictions)"
      ]
    },
    {
      "cell_type": "markdown",
      "metadata": {
        "id": "JbuR3_0Uu23V"
      },
      "source": [
        "These are predicted classes.\n",
        "\n",
        "To compute the AUC, we actually need these predictions to be scores (a continuous value).\n",
        "\n",
        "For logistic regression these scores are the class probabilities predicted by the model (a value between 0 and 1). \n",
        "\n",
        "We can obtain these scores with the `predict_proba()` function of the `LogisticRegression` module as follows:"
      ]
    },
    {
      "cell_type": "code",
      "execution_count": null,
      "metadata": {
        "colab": {
          "base_uri": "https://localhost:8080/",
          "height": 147
        },
        "id": "xMT2X0i7u23W",
        "outputId": "069d78eb-be22-401c-cf3d-c98ad4fc5a6f"
      },
      "outputs": [
        {
          "name": "stdout",
          "output_type": "stream",
          "text": [
            "       prob_0    prob_1\n",
            "0    0.327520  0.672480\n",
            "1    0.425903  0.574097\n",
            "2    0.341907  0.658093\n",
            "3    0.999413  0.000587\n",
            "4    0.942077  0.057923\n",
            "..        ...       ...\n",
            "547  0.823318  0.176682\n",
            "548  0.996326  0.003674\n",
            "549  0.997360  0.002640\n",
            "550  0.984624  0.015376\n",
            "551  0.970995  0.029005\n",
            "\n",
            "[552 rows x 2 columns]\n"
          ]
        }
      ],
      "source": [
        "predictions = pd.DataFrame(lr_model.predict_proba(X_test),columns=[\"prob_0\",\"prob_1\"])\n",
        "\n",
        "print(predictions)"
      ]
    },
    {
      "cell_type": "markdown",
      "metadata": {
        "id": "ecMykZJcu23h"
      },
      "source": [
        "The first and second column contain the predicted probabilities for class '0' and '1' respectively. To compute the AUC we need to use the class probabilities of class '1'. \n",
        "\n",
        "Compute the AUC from the class probabilities of class '1' computed from the testset: "
      ]
    },
    {
      "cell_type": "code",
      "execution_count": null,
      "metadata": {
        "colab": {
          "base_uri": "https://localhost:8080/",
          "height": 36
        },
        "id": "k7Zj60JBu23i",
        "outputId": "d32a2e3d-6baa-43ee-969f-afa70c6f08e1"
      },
      "outputs": [
        {
          "name": "stdout",
          "output_type": "stream",
          "text": [
            "0.897969635997805\n"
          ]
        }
      ],
      "source": [
        "###Start code here\n",
        "\n",
        "score_auc = metrics.roc_auc_score(y_test,predictions[\"prob_1\"])\n",
        "\n",
        "###End code here\n",
        "\n",
        "print(score_auc)"
      ]
    },
    {
      "cell_type": "markdown",
      "metadata": {
        "id": "EudhUPu-u23o"
      },
      "source": [
        "Is this good generalization performance?\n",
        "\n",
        "Transforming categorical features into ordered integers is maybe not a good idea as the nucleotides don't have any ordering (the columns are not ordinal features). \n",
        "\n",
        "It is better to transform a categorical feature into one binary feature for each category. This is known as [one-hot encoding](https://en.wikipedia.org/wiki/One-hot). \n",
        "\n",
        "We can create a one-hot encoded feature vector of categorical feature columns using the Pandas function `get_dummies()` as follows:"
      ]
    },
    {
      "cell_type": "code",
      "execution_count": null,
      "metadata": {
        "id": "Gjqb1YhYcg-4",
        "outputId": "e3731199-150e-422f-9cbd-cba27818cddd"
      },
      "outputs": [
        {
          "name": "stdout",
          "output_type": "stream",
          "text": [
            "      -10_A  -10_C  -10_G  -10_T  -9_A  -9_C  -9_G  -9_T  -8_A  -8_C  ...  \\\n",
            "0         0      0      0      1     0     0     0     1     0     0  ...   \n",
            "1         0      0      0      1     1     0     0     0     0     0  ...   \n",
            "2         0      0      0      1     0     0     0     1     0     0  ...   \n",
            "3         0      0      0      1     1     0     0     0     0     0  ...   \n",
            "4         0      0      0      1     1     0     0     0     1     0  ...   \n",
            "...     ...    ...    ...    ...   ...   ...   ...   ...   ...   ...  ...   \n",
            "3299      0      0      0      1     0     0     0     1     0     0  ...   \n",
            "3300      0      1      0      0     0     0     0     1     0     0  ...   \n",
            "3301      0      0      0      1     0     0     0     1     0     1  ...   \n",
            "3302      1      0      0      0     1     0     0     0     1     0  ...   \n",
            "3303      1      0      0      0     0     0     1     0     1     0  ...   \n",
            "\n",
            "      8_G  8_T  9_A  9_C  9_G  9_T  10_A  10_C  10_G  10_T  \n",
            "0       1    0    0    1    0    0     0     0     0     1  \n",
            "1       0    0    0    0    1    0     1     0     0     0  \n",
            "2       0    0    0    0    0    1     0     0     1     0  \n",
            "3       1    0    0    0    0    1     0     0     0     1  \n",
            "4       0    0    0    0    1    0     1     0     0     0  \n",
            "...   ...  ...  ...  ...  ...  ...   ...   ...   ...   ...  \n",
            "3299    0    0    0    0    0    1     0     1     0     0  \n",
            "3300    0    0    1    0    0    0     0     0     0     1  \n",
            "3301    1    0    1    0    0    0     1     0     0     0  \n",
            "3302    0    0    0    0    1    0     1     0     0     0  \n",
            "3303    1    0    0    0    0    1     0     0     0     1  \n",
            "\n",
            "[3304 rows x 80 columns]\n"
          ]
        }
      ],
      "source": [
        "data_features_onehot_encoding = pd.get_dummies(data_features)\n",
        "\n",
        "print(data_features_onehot_encoding)"
      ]
    },
    {
      "cell_type": "markdown",
      "metadata": {
        "id": "boNGv--Ncg-6"
      },
      "source": [
        "What it the AUC on the testset for a model fitted on these one-hot encoded feature vectors in the trainset? "
      ]
    },
    {
      "cell_type": "code",
      "execution_count": null,
      "metadata": {
        "id": "SZx_Q-NTcg-7",
        "outputId": "f681283b-0789-47a8-f332-a10ad69b09cd"
      },
      "outputs": [
        {
          "name": "stdout",
          "output_type": "stream",
          "text": [
            "0.9851472471190781\n"
          ]
        }
      ],
      "source": [
        "###Start code here\n",
        "\n",
        "X_train = data_features_onehot_encoding.loc[data.subset == \"train\"]\n",
        "X_test = data_features_onehot_encoding.loc[data.subset == \"test\"]\n",
        "\n",
        "lr_model.fit(X_train,y_train)\n",
        "\n",
        "predictions = pd.DataFrame(lr_model.predict_proba(X_test),columns=[\"prob_0\",\"prob_1\"])\n",
        "score_auc = metrics.roc_auc_score(y_test,predictions[\"prob_1\"])\n",
        "\n",
        "###End code here\n",
        "\n",
        "print(score_auc)"
      ]
    },
    {
      "cell_type": "markdown",
      "metadata": {
        "collapsed": true,
        "id": "wRe1CLnUu24l"
      },
      "source": [
        "Do you observe better AUC for the one-hot encoded feature vectors?\n",
        "\n",
        "In scikit-learn a fitted logistic regression model has the fitted modelparameter values stored in `.coef_[0]`:"
      ]
    },
    {
      "cell_type": "code",
      "execution_count": null,
      "metadata": {
        "colab": {
          "base_uri": "https://localhost:8080/",
          "height": 278
        },
        "id": "8f-NBEUt4AjE",
        "outputId": "403323ff-3fba-48c0-b898-ad01850826bc"
      },
      "outputs": [
        {
          "name": "stdout",
          "output_type": "stream",
          "text": [
            "[ 0.18535922 -0.17254465 -0.64432076  0.63155105  0.36323346  0.09664242\n",
            " -0.82511475  0.36528374  0.42644274 -0.00627464 -1.01475009  0.59462685\n",
            "  0.2943751  -0.68264436 -0.36023434  0.74854847  0.62222768 -1.22208009\n",
            " -0.13600194  0.73589922  0.10617957  0.17511685 -0.97650548  0.69525393\n",
            " -0.30416484 -0.40788395 -1.10386006  1.81595372 -0.21790803 -1.20477227\n",
            " -1.11330282  2.53602798  0.0671242  -0.15447455 -1.36278366  1.45017887\n",
            " -0.6199823   2.10008164 -1.93416747  0.454113    0.31268108 -0.83265987\n",
            "  1.45490251 -0.93487886 -0.35797043  0.26184045 -0.08013915  0.17631399\n",
            " -0.0247569   0.23742285  0.40959851 -0.6222196  -0.31194619  0.29535498\n",
            "  0.42828426 -0.41164818 -0.20320261  0.19427966  0.3345353  -0.32556748\n",
            " -0.30042054  0.66079598  0.26838713 -0.62871771 -0.20485503  0.36583118\n",
            "  0.2601907  -0.42112198 -0.24838684  0.44239752  0.33979426 -0.53376007\n",
            " -0.21496153  0.00264659  0.35339661 -0.1410368  -0.69564289  0.42731881\n",
            "  0.38151408 -0.11314514]\n"
          ]
        }
      ],
      "source": [
        "print(lr_model.coef_[0])"
      ]
    },
    {
      "cell_type": "markdown",
      "metadata": {
        "id": "wdPAICuc4NWT"
      },
      "source": [
        "For logistic regression this is one modelparameter for each feature (plus the interecept, which is not in `.coef_[0]`). \n",
        "\n",
        "Recall that for logistic regression a prediction is made by multiplying each fitted modelparameter with the corresponding feature, summing them and then squeezing this sum between 0 and 1 with the logistic function. \n",
        "\n",
        "Since all features have values 0 or 1, the modelparameter values indicate the contribution (importance) of a feature during prediction.\n",
        "\n",
        "The following code creates a Pandas DataFrame `model_parameters` with two columns: `feature` that is the name of the feature that the modelparameter is associated with, and `parameter_value` that is the value of the fitted modelparameter:"
      ]
    },
    {
      "cell_type": "code",
      "execution_count": null,
      "metadata": {
        "id": "MIPzZh0qcg-_",
        "outputId": "7216bf2c-c33f-4ed8-858a-71a72da61014"
      },
      "outputs": [
        {
          "name": "stdout",
          "output_type": "stream",
          "text": [
            "   feature  parameter_value\n",
            "0    -10_A         0.185359\n",
            "1    -10_C        -0.172545\n",
            "2    -10_G        -0.644321\n",
            "3    -10_T         0.631551\n",
            "4     -9_A         0.363233\n",
            "..     ...              ...\n",
            "75     9_T        -0.141037\n",
            "76    10_A        -0.695643\n",
            "77    10_C         0.427319\n",
            "78    10_G         0.381514\n",
            "79    10_T        -0.113145\n",
            "\n",
            "[80 rows x 2 columns]\n"
          ]
        }
      ],
      "source": [
        "model_parameters = pd.DataFrame()\n",
        "model_parameters[\"feature\"] = data_features_onehot_encoding.columns\n",
        "model_parameters[\"parameter_value\"] = lr_model.coef_[0]\n",
        "print(model_parameters)"
      ]
    },
    {
      "cell_type": "markdown",
      "metadata": {
        "id": "gqwYRz7dcg_A"
      },
      "source": [
        "A Pandas DataFrame also has functions to [plot the data](https://pandas.pydata.org/docs/user_guide/visualization.html). Here I plot the modelparameter values as a bar chart:"
      ]
    },
    {
      "cell_type": "code",
      "execution_count": null,
      "metadata": {
        "id": "6a5wtwKBcg_B",
        "outputId": "bf9f95e9-dd13-4a94-9193-5eec9e436c0c"
      },
      "outputs": [
        {
          "data": {
            "text/plain": [
              "<AxesSubplot:xlabel='feature'>"
            ]
          },
          "execution_count": 35,
          "metadata": {},
          "output_type": "execute_result"
        },
        {
          "data": {
            "image/png": "[encoded data removed]",
            "text/plain": [
              "<Figure size 2000x1200 with 1 Axes>"
            ]
          },
          "metadata": {},
          "output_type": "display_data"
        }
      ],
      "source": [
        "model_parameters.plot.bar(x=\"feature\",y=\"parameter_value\",figsize=(20,12))"
      ]
    },
    {
      "cell_type": "markdown",
      "metadata": {
        "id": "yoJLD6BXcg_C"
      },
      "source": [
        "What are the most important one-hot encoded features for the fitted logistic regression model?"
      ]
    },
    {
      "cell_type": "markdown",
      "metadata": {
        "id": "xnA5jDajcg_C"
      },
      "source": []
    }
  ],
  "metadata": {
    "colab": {
      "name": "2.1._Classification_solutions.ipynb",
      "provenance": [],
      "include_colab_link": true
    },
    "kernelspec": {
      "display_name": "Python 3 (ipykernel)",
      "language": "python",
      "name": "python3"
    },
    "language_info": {
      "codemirror_mode": {
        "name": "ipython",
        "version": 3
      },
      "file_extension": ".py",
      "mimetype": "text/x-python",
      "name": "python",
      "nbconvert_exporter": "python",
      "pygments_lexer": "ipython3",
      "version": "3.9.13"
    }
  },
  "nbformat": 4,
  "nbformat_minor": 0
}